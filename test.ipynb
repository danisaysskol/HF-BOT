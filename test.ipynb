{
 "cells": [
  {
   "cell_type": "code",
   "execution_count": 33,
   "id": "a49869e2",
   "metadata": {},
   "outputs": [
    {
     "name": "stderr",
     "output_type": "stream",
     "text": [
      "[nltk_data] Downloading package punkt_tab to /home/danish/nltk_data...\n",
      "[nltk_data]   Package punkt_tab is already up-to-date!\n",
      "[nltk_data] Downloading package averaged_perceptron_tagger_eng to\n",
      "[nltk_data]     /home/danish/nltk_data...\n",
      "[nltk_data]   Package averaged_perceptron_tagger_eng is already up-to-\n",
      "[nltk_data]       date!\n"
     ]
    },
    {
     "data": {
      "text/plain": [
       "True"
      ]
     },
     "execution_count": 33,
     "metadata": {},
     "output_type": "execute_result"
    }
   ],
   "source": [
    "from langchain_google_genai import ChatGoogleGenerativeAI\n",
    "from langchain_openai import ChatOpenAI\n",
    "from dotenv import load_dotenv\n",
    "from langchain_huggingface import HuggingFaceEmbeddings\n",
    "import os\n",
    "from langchain_community.embeddings import HuggingFaceInstructEmbeddings\n",
    "from langchain_community.vectorstores import FAISS\n",
    "from langchain.chains import create_retrieval_chain\n",
    "from langchain.chains.combine_documents import create_stuff_documents_chain\n",
    "from langchain_core.prompts import ChatPromptTemplate\n",
    "from dotenv import load_dotenv\n",
    "from langchain_google_genai import ChatGoogleGenerativeAI\n",
    "from langchain_community.document_loaders import UnstructuredMarkdownLoader\n",
    "from langchain_core.documents import Document\n",
    "import nltk\n",
    "import mistune\n",
    "import logging\n",
    "nltk.download('punkt_tab')\n",
    "nltk.download('averaged_perceptron_tagger_eng')"
   ]
  },
  {
   "cell_type": "code",
   "execution_count": 96,
   "id": "cba1d8ac",
   "metadata": {},
   "outputs": [
    {
     "ename": "OutOfMemoryError",
     "evalue": "CUDA out of memory. Tried to allocate 90.00 MiB. GPU 0 has a total capacity of 1.82 GiB of which 19.81 MiB is free. Including non-PyTorch memory, this process has 1.79 GiB memory in use. Of the allocated memory 1.65 GiB is allocated by PyTorch, and 67.99 MiB is reserved by PyTorch but unallocated. If reserved but unallocated memory is large try setting PYTORCH_CUDA_ALLOC_CONF=expandable_segments:True to avoid fragmentation.  See documentation for Memory Management  (https://pytorch.org/docs/stable/notes/cuda.html#environment-variables)",
     "output_type": "error",
     "traceback": [
      "\u001b[0;31m---------------------------------------------------------------------------\u001b[0m",
      "\u001b[0;31mOutOfMemoryError\u001b[0m                          Traceback (most recent call last)",
      "Cell \u001b[0;32mIn[96], line 7\u001b[0m\n\u001b[1;32m      1\u001b[0m load_dotenv()\n\u001b[1;32m      3\u001b[0m llm \u001b[38;5;241m=\u001b[39m ChatOpenAI(\n\u001b[1;32m      4\u001b[0m     model\u001b[38;5;241m=\u001b[39m\u001b[38;5;124m'\u001b[39m\u001b[38;5;124mgpt-4o-mini\u001b[39m\u001b[38;5;124m'\u001b[39m\n\u001b[1;32m      5\u001b[0m )\n\u001b[0;32m----> 7\u001b[0m embeddings_model \u001b[38;5;241m=\u001b[39m \u001b[43mHuggingFaceEmbeddings\u001b[49m\u001b[43m(\u001b[49m\u001b[43mmodel_name\u001b[49m\u001b[38;5;241;43m=\u001b[39;49m\u001b[38;5;124;43m\"\u001b[39;49m\u001b[38;5;124;43msentence-transformers/all-mpnet-base-v2\u001b[39;49m\u001b[38;5;124;43m\"\u001b[39;49m\u001b[43m)\u001b[49m\n",
      "File \u001b[0;32m~/Desktop/hf_bot/hf_bot_venv/lib/python3.12/site-packages/langchain_huggingface/embeddings/huggingface.py:59\u001b[0m, in \u001b[0;36mHuggingFaceEmbeddings.__init__\u001b[0;34m(self, **kwargs)\u001b[0m\n\u001b[1;32m     53\u001b[0m \u001b[38;5;28;01mexcept\u001b[39;00m \u001b[38;5;167;01mImportError\u001b[39;00m \u001b[38;5;28;01mas\u001b[39;00m exc:\n\u001b[1;32m     54\u001b[0m     \u001b[38;5;28;01mraise\u001b[39;00m \u001b[38;5;167;01mImportError\u001b[39;00m(\n\u001b[1;32m     55\u001b[0m         \u001b[38;5;124m\"\u001b[39m\u001b[38;5;124mCould not import sentence_transformers python package. \u001b[39m\u001b[38;5;124m\"\u001b[39m\n\u001b[1;32m     56\u001b[0m         \u001b[38;5;124m\"\u001b[39m\u001b[38;5;124mPlease install it with `pip install sentence-transformers`.\u001b[39m\u001b[38;5;124m\"\u001b[39m\n\u001b[1;32m     57\u001b[0m     ) \u001b[38;5;28;01mfrom\u001b[39;00m\u001b[38;5;250m \u001b[39m\u001b[38;5;21;01mexc\u001b[39;00m\n\u001b[0;32m---> 59\u001b[0m \u001b[38;5;28mself\u001b[39m\u001b[38;5;241m.\u001b[39m_client \u001b[38;5;241m=\u001b[39m \u001b[43msentence_transformers\u001b[49m\u001b[38;5;241;43m.\u001b[39;49m\u001b[43mSentenceTransformer\u001b[49m\u001b[43m(\u001b[49m\n\u001b[1;32m     60\u001b[0m \u001b[43m    \u001b[49m\u001b[38;5;28;43mself\u001b[39;49m\u001b[38;5;241;43m.\u001b[39;49m\u001b[43mmodel_name\u001b[49m\u001b[43m,\u001b[49m\u001b[43m \u001b[49m\u001b[43mcache_folder\u001b[49m\u001b[38;5;241;43m=\u001b[39;49m\u001b[38;5;28;43mself\u001b[39;49m\u001b[38;5;241;43m.\u001b[39;49m\u001b[43mcache_folder\u001b[49m\u001b[43m,\u001b[49m\u001b[43m \u001b[49m\u001b[38;5;241;43m*\u001b[39;49m\u001b[38;5;241;43m*\u001b[39;49m\u001b[38;5;28;43mself\u001b[39;49m\u001b[38;5;241;43m.\u001b[39;49m\u001b[43mmodel_kwargs\u001b[49m\n\u001b[1;32m     61\u001b[0m \u001b[43m\u001b[49m\u001b[43m)\u001b[49m\n",
      "File \u001b[0;32m~/Desktop/hf_bot/hf_bot_venv/lib/python3.12/site-packages/sentence_transformers/SentenceTransformer.py:347\u001b[0m, in \u001b[0;36mSentenceTransformer.__init__\u001b[0;34m(self, model_name_or_path, modules, device, prompts, default_prompt_name, similarity_fn_name, cache_folder, trust_remote_code, revision, local_files_only, token, use_auth_token, truncate_dim, model_kwargs, tokenizer_kwargs, config_kwargs, model_card_data, backend)\u001b[0m\n\u001b[1;32m    344\u001b[0m \u001b[38;5;28;01mexcept\u001b[39;00m \u001b[38;5;167;01mStopIteration\u001b[39;00m:\n\u001b[1;32m    345\u001b[0m     \u001b[38;5;28;01mpass\u001b[39;00m\n\u001b[0;32m--> 347\u001b[0m \u001b[38;5;28;43mself\u001b[39;49m\u001b[38;5;241;43m.\u001b[39;49m\u001b[43mto\u001b[49m\u001b[43m(\u001b[49m\u001b[43mdevice\u001b[49m\u001b[43m)\u001b[49m\n\u001b[1;32m    348\u001b[0m \u001b[38;5;28mself\u001b[39m\u001b[38;5;241m.\u001b[39mis_hpu_graph_enabled \u001b[38;5;241m=\u001b[39m \u001b[38;5;28;01mFalse\u001b[39;00m\n\u001b[1;32m    350\u001b[0m \u001b[38;5;28;01mif\u001b[39;00m \u001b[38;5;28mself\u001b[39m\u001b[38;5;241m.\u001b[39mdefault_prompt_name \u001b[38;5;129;01mis\u001b[39;00m \u001b[38;5;129;01mnot\u001b[39;00m \u001b[38;5;28;01mNone\u001b[39;00m \u001b[38;5;129;01mand\u001b[39;00m \u001b[38;5;28mself\u001b[39m\u001b[38;5;241m.\u001b[39mdefault_prompt_name \u001b[38;5;129;01mnot\u001b[39;00m \u001b[38;5;129;01min\u001b[39;00m \u001b[38;5;28mself\u001b[39m\u001b[38;5;241m.\u001b[39mprompts:\n",
      "File \u001b[0;32m~/Desktop/hf_bot/hf_bot_venv/lib/python3.12/site-packages/torch/nn/modules/module.py:1340\u001b[0m, in \u001b[0;36mModule.to\u001b[0;34m(self, *args, **kwargs)\u001b[0m\n\u001b[1;32m   1337\u001b[0m         \u001b[38;5;28;01melse\u001b[39;00m:\n\u001b[1;32m   1338\u001b[0m             \u001b[38;5;28;01mraise\u001b[39;00m\n\u001b[0;32m-> 1340\u001b[0m \u001b[38;5;28;01mreturn\u001b[39;00m \u001b[38;5;28;43mself\u001b[39;49m\u001b[38;5;241;43m.\u001b[39;49m\u001b[43m_apply\u001b[49m\u001b[43m(\u001b[49m\u001b[43mconvert\u001b[49m\u001b[43m)\u001b[49m\n",
      "File \u001b[0;32m~/Desktop/hf_bot/hf_bot_venv/lib/python3.12/site-packages/torch/nn/modules/module.py:900\u001b[0m, in \u001b[0;36mModule._apply\u001b[0;34m(self, fn, recurse)\u001b[0m\n\u001b[1;32m    898\u001b[0m \u001b[38;5;28;01mif\u001b[39;00m recurse:\n\u001b[1;32m    899\u001b[0m     \u001b[38;5;28;01mfor\u001b[39;00m module \u001b[38;5;129;01min\u001b[39;00m \u001b[38;5;28mself\u001b[39m\u001b[38;5;241m.\u001b[39mchildren():\n\u001b[0;32m--> 900\u001b[0m         \u001b[43mmodule\u001b[49m\u001b[38;5;241;43m.\u001b[39;49m\u001b[43m_apply\u001b[49m\u001b[43m(\u001b[49m\u001b[43mfn\u001b[49m\u001b[43m)\u001b[49m\n\u001b[1;32m    902\u001b[0m \u001b[38;5;28;01mdef\u001b[39;00m\u001b[38;5;250m \u001b[39m\u001b[38;5;21mcompute_should_use_set_data\u001b[39m(tensor, tensor_applied):\n\u001b[1;32m    903\u001b[0m     \u001b[38;5;28;01mif\u001b[39;00m torch\u001b[38;5;241m.\u001b[39m_has_compatible_shallow_copy_type(tensor, tensor_applied):\n\u001b[1;32m    904\u001b[0m         \u001b[38;5;66;03m# If the new tensor has compatible tensor type as the existing tensor,\u001b[39;00m\n\u001b[1;32m    905\u001b[0m         \u001b[38;5;66;03m# the current behavior is to change the tensor in-place using `.data =`,\u001b[39;00m\n\u001b[0;32m   (...)\u001b[0m\n\u001b[1;32m    910\u001b[0m         \u001b[38;5;66;03m# global flag to let the user control whether they want the future\u001b[39;00m\n\u001b[1;32m    911\u001b[0m         \u001b[38;5;66;03m# behavior of overwriting the existing tensor or not.\u001b[39;00m\n",
      "File \u001b[0;32m~/Desktop/hf_bot/hf_bot_venv/lib/python3.12/site-packages/torch/nn/modules/module.py:900\u001b[0m, in \u001b[0;36mModule._apply\u001b[0;34m(self, fn, recurse)\u001b[0m\n\u001b[1;32m    898\u001b[0m \u001b[38;5;28;01mif\u001b[39;00m recurse:\n\u001b[1;32m    899\u001b[0m     \u001b[38;5;28;01mfor\u001b[39;00m module \u001b[38;5;129;01min\u001b[39;00m \u001b[38;5;28mself\u001b[39m\u001b[38;5;241m.\u001b[39mchildren():\n\u001b[0;32m--> 900\u001b[0m         \u001b[43mmodule\u001b[49m\u001b[38;5;241;43m.\u001b[39;49m\u001b[43m_apply\u001b[49m\u001b[43m(\u001b[49m\u001b[43mfn\u001b[49m\u001b[43m)\u001b[49m\n\u001b[1;32m    902\u001b[0m \u001b[38;5;28;01mdef\u001b[39;00m\u001b[38;5;250m \u001b[39m\u001b[38;5;21mcompute_should_use_set_data\u001b[39m(tensor, tensor_applied):\n\u001b[1;32m    903\u001b[0m     \u001b[38;5;28;01mif\u001b[39;00m torch\u001b[38;5;241m.\u001b[39m_has_compatible_shallow_copy_type(tensor, tensor_applied):\n\u001b[1;32m    904\u001b[0m         \u001b[38;5;66;03m# If the new tensor has compatible tensor type as the existing tensor,\u001b[39;00m\n\u001b[1;32m    905\u001b[0m         \u001b[38;5;66;03m# the current behavior is to change the tensor in-place using `.data =`,\u001b[39;00m\n\u001b[0;32m   (...)\u001b[0m\n\u001b[1;32m    910\u001b[0m         \u001b[38;5;66;03m# global flag to let the user control whether they want the future\u001b[39;00m\n\u001b[1;32m    911\u001b[0m         \u001b[38;5;66;03m# behavior of overwriting the existing tensor or not.\u001b[39;00m\n",
      "    \u001b[0;31m[... skipping similar frames: Module._apply at line 900 (1 times)]\u001b[0m\n",
      "File \u001b[0;32m~/Desktop/hf_bot/hf_bot_venv/lib/python3.12/site-packages/torch/nn/modules/module.py:900\u001b[0m, in \u001b[0;36mModule._apply\u001b[0;34m(self, fn, recurse)\u001b[0m\n\u001b[1;32m    898\u001b[0m \u001b[38;5;28;01mif\u001b[39;00m recurse:\n\u001b[1;32m    899\u001b[0m     \u001b[38;5;28;01mfor\u001b[39;00m module \u001b[38;5;129;01min\u001b[39;00m \u001b[38;5;28mself\u001b[39m\u001b[38;5;241m.\u001b[39mchildren():\n\u001b[0;32m--> 900\u001b[0m         \u001b[43mmodule\u001b[49m\u001b[38;5;241;43m.\u001b[39;49m\u001b[43m_apply\u001b[49m\u001b[43m(\u001b[49m\u001b[43mfn\u001b[49m\u001b[43m)\u001b[49m\n\u001b[1;32m    902\u001b[0m \u001b[38;5;28;01mdef\u001b[39;00m\u001b[38;5;250m \u001b[39m\u001b[38;5;21mcompute_should_use_set_data\u001b[39m(tensor, tensor_applied):\n\u001b[1;32m    903\u001b[0m     \u001b[38;5;28;01mif\u001b[39;00m torch\u001b[38;5;241m.\u001b[39m_has_compatible_shallow_copy_type(tensor, tensor_applied):\n\u001b[1;32m    904\u001b[0m         \u001b[38;5;66;03m# If the new tensor has compatible tensor type as the existing tensor,\u001b[39;00m\n\u001b[1;32m    905\u001b[0m         \u001b[38;5;66;03m# the current behavior is to change the tensor in-place using `.data =`,\u001b[39;00m\n\u001b[0;32m   (...)\u001b[0m\n\u001b[1;32m    910\u001b[0m         \u001b[38;5;66;03m# global flag to let the user control whether they want the future\u001b[39;00m\n\u001b[1;32m    911\u001b[0m         \u001b[38;5;66;03m# behavior of overwriting the existing tensor or not.\u001b[39;00m\n",
      "File \u001b[0;32m~/Desktop/hf_bot/hf_bot_venv/lib/python3.12/site-packages/torch/nn/modules/module.py:927\u001b[0m, in \u001b[0;36mModule._apply\u001b[0;34m(self, fn, recurse)\u001b[0m\n\u001b[1;32m    923\u001b[0m \u001b[38;5;66;03m# Tensors stored in modules are graph leaves, and we don't want to\u001b[39;00m\n\u001b[1;32m    924\u001b[0m \u001b[38;5;66;03m# track autograd history of `param_applied`, so we have to use\u001b[39;00m\n\u001b[1;32m    925\u001b[0m \u001b[38;5;66;03m# `with torch.no_grad():`\u001b[39;00m\n\u001b[1;32m    926\u001b[0m \u001b[38;5;28;01mwith\u001b[39;00m torch\u001b[38;5;241m.\u001b[39mno_grad():\n\u001b[0;32m--> 927\u001b[0m     param_applied \u001b[38;5;241m=\u001b[39m \u001b[43mfn\u001b[49m\u001b[43m(\u001b[49m\u001b[43mparam\u001b[49m\u001b[43m)\u001b[49m\n\u001b[1;32m    928\u001b[0m p_should_use_set_data \u001b[38;5;241m=\u001b[39m compute_should_use_set_data(param, param_applied)\n\u001b[1;32m    930\u001b[0m \u001b[38;5;66;03m# subclasses may have multiple child tensors so we need to use swap_tensors\u001b[39;00m\n",
      "File \u001b[0;32m~/Desktop/hf_bot/hf_bot_venv/lib/python3.12/site-packages/torch/nn/modules/module.py:1326\u001b[0m, in \u001b[0;36mModule.to.<locals>.convert\u001b[0;34m(t)\u001b[0m\n\u001b[1;32m   1319\u001b[0m     \u001b[38;5;28;01mif\u001b[39;00m convert_to_format \u001b[38;5;129;01mis\u001b[39;00m \u001b[38;5;129;01mnot\u001b[39;00m \u001b[38;5;28;01mNone\u001b[39;00m \u001b[38;5;129;01mand\u001b[39;00m t\u001b[38;5;241m.\u001b[39mdim() \u001b[38;5;129;01min\u001b[39;00m (\u001b[38;5;241m4\u001b[39m, \u001b[38;5;241m5\u001b[39m):\n\u001b[1;32m   1320\u001b[0m         \u001b[38;5;28;01mreturn\u001b[39;00m t\u001b[38;5;241m.\u001b[39mto(\n\u001b[1;32m   1321\u001b[0m             device,\n\u001b[1;32m   1322\u001b[0m             dtype \u001b[38;5;28;01mif\u001b[39;00m t\u001b[38;5;241m.\u001b[39mis_floating_point() \u001b[38;5;129;01mor\u001b[39;00m t\u001b[38;5;241m.\u001b[39mis_complex() \u001b[38;5;28;01melse\u001b[39;00m \u001b[38;5;28;01mNone\u001b[39;00m,\n\u001b[1;32m   1323\u001b[0m             non_blocking,\n\u001b[1;32m   1324\u001b[0m             memory_format\u001b[38;5;241m=\u001b[39mconvert_to_format,\n\u001b[1;32m   1325\u001b[0m         )\n\u001b[0;32m-> 1326\u001b[0m     \u001b[38;5;28;01mreturn\u001b[39;00m \u001b[43mt\u001b[49m\u001b[38;5;241;43m.\u001b[39;49m\u001b[43mto\u001b[49m\u001b[43m(\u001b[49m\n\u001b[1;32m   1327\u001b[0m \u001b[43m        \u001b[49m\u001b[43mdevice\u001b[49m\u001b[43m,\u001b[49m\n\u001b[1;32m   1328\u001b[0m \u001b[43m        \u001b[49m\u001b[43mdtype\u001b[49m\u001b[43m \u001b[49m\u001b[38;5;28;43;01mif\u001b[39;49;00m\u001b[43m \u001b[49m\u001b[43mt\u001b[49m\u001b[38;5;241;43m.\u001b[39;49m\u001b[43mis_floating_point\u001b[49m\u001b[43m(\u001b[49m\u001b[43m)\u001b[49m\u001b[43m \u001b[49m\u001b[38;5;129;43;01mor\u001b[39;49;00m\u001b[43m \u001b[49m\u001b[43mt\u001b[49m\u001b[38;5;241;43m.\u001b[39;49m\u001b[43mis_complex\u001b[49m\u001b[43m(\u001b[49m\u001b[43m)\u001b[49m\u001b[43m \u001b[49m\u001b[38;5;28;43;01melse\u001b[39;49;00m\u001b[43m \u001b[49m\u001b[38;5;28;43;01mNone\u001b[39;49;00m\u001b[43m,\u001b[49m\n\u001b[1;32m   1329\u001b[0m \u001b[43m        \u001b[49m\u001b[43mnon_blocking\u001b[49m\u001b[43m,\u001b[49m\n\u001b[1;32m   1330\u001b[0m \u001b[43m    \u001b[49m\u001b[43m)\u001b[49m\n\u001b[1;32m   1331\u001b[0m \u001b[38;5;28;01mexcept\u001b[39;00m \u001b[38;5;167;01mNotImplementedError\u001b[39;00m \u001b[38;5;28;01mas\u001b[39;00m e:\n\u001b[1;32m   1332\u001b[0m     \u001b[38;5;28;01mif\u001b[39;00m \u001b[38;5;28mstr\u001b[39m(e) \u001b[38;5;241m==\u001b[39m \u001b[38;5;124m\"\u001b[39m\u001b[38;5;124mCannot copy out of meta tensor; no data!\u001b[39m\u001b[38;5;124m\"\u001b[39m:\n",
      "\u001b[0;31mOutOfMemoryError\u001b[0m: CUDA out of memory. Tried to allocate 90.00 MiB. GPU 0 has a total capacity of 1.82 GiB of which 19.81 MiB is free. Including non-PyTorch memory, this process has 1.79 GiB memory in use. Of the allocated memory 1.65 GiB is allocated by PyTorch, and 67.99 MiB is reserved by PyTorch but unallocated. If reserved but unallocated memory is large try setting PYTORCH_CUDA_ALLOC_CONF=expandable_segments:True to avoid fragmentation.  See documentation for Memory Management  (https://pytorch.org/docs/stable/notes/cuda.html#environment-variables)"
     ]
    }
   ],
   "source": [
    "load_dotenv()\n",
    "\n",
    "llm = ChatOpenAI(\n",
    "    model='gpt-4o-mini'\n",
    ")\n",
    "\n",
    "embeddings_model = HuggingFaceEmbeddings(model_name=\"sentence-transformers/all-mpnet-base-v2\")"
   ]
  },
  {
   "cell_type": "code",
   "execution_count": 4,
   "id": "43b7b504",
   "metadata": {},
   "outputs": [],
   "source": [
    "vector_db_file_path = \"faiss_index_database\""
   ]
  },
  {
   "cell_type": "code",
   "execution_count": 5,
   "id": "759a7d2e",
   "metadata": {},
   "outputs": [],
   "source": [
    "# file_paths = []\n",
    "folder_path= r\"/home/danish/Desktop/hf_bot/dataset\"\n",
    "# file_paths.append(file_path1)\n",
    "# file_path2 = r\"dataset/numeric_arithmetic_learning_data.csv\"\n",
    "# file_paths.append(file_path2)\n"
   ]
  },
  {
   "cell_type": "code",
   "execution_count": 6,
   "id": "14b40df2",
   "metadata": {},
   "outputs": [],
   "source": []
  },
  {
   "cell_type": "code",
   "execution_count": 7,
   "id": "66d8b6b1",
   "metadata": {},
   "outputs": [],
   "source": [
    "def create_vector_db(folder_path):\n",
    "    try:\n",
    "        vectordb = FAISS.load_local(vector_db_file_path, embeddings_model, allow_dangerous_deserialization=True)\n",
    "        print(\"Existing vector database loaded.\")\n",
    "    except:\n",
    "        print(\"No existing vector database found, creating a new one.\")\n",
    "        vectordb = None\n",
    "\n",
    "    # Get all files from the input folder\n",
    "    import os\n",
    "    files = [f for f in os.listdir(folder_path) if os.path.isfile(os.path.join(folder_path, f))]\n",
    "    \n",
    "    # Process each file in the folder\n",
    "    for file in files:\n",
    "        file_path = os.path.join(folder_path, file)\n",
    "        try:\n",
    "#             with open(file_path, \"r\", encoding=\"utf-8\") as file:\n",
    "#                 data = file.read()\n",
    "#             Load and process the file\n",
    "#             loader = UnstructuredMarkdownLoader(file_path)\n",
    "#             data = loader.load()\n",
    "            from langchain_community.document_loaders import TextLoader\n",
    "            loader = TextLoader(file_path)\n",
    "            data = loader.load()\n",
    "\n",
    "            # Splitting\n",
    "            text_splitter = RecursiveCharacterTextSplitter(\n",
    "                chunk_size=1000,  # chunk size (characters)\n",
    "                chunk_overlap=200,  # chunk overlap (characters)\n",
    "                add_start_index=True,  # track index in original document\n",
    "            )\n",
    "            all_splits = text_splitter.split_documents(data)\n",
    "            print(f\"Split {file} into {len(all_splits)} sub-documents.\")\n",
    "\n",
    "            if vectordb:\n",
    "                # Add new documents to the existing vector database\n",
    "                vectordb.add_documents(all_splits)\n",
    "            else:\n",
    "                # Create a new FAISS instance if it doesn't exist yet\n",
    "                vectordb = FAISS.from_documents(documents=all_splits, embedding=embeddings_model)\n",
    "                \n",
    "        except Exception as e:\n",
    "            print(f\"Error processing file {file}: {str(e)}\")\n",
    "            continue\n",
    "    type(vectordb)\n",
    "    # Save the updated vector database\n",
    "    vectordb.save_local(vector_db_file_path)\n",
    "    print(\"Vector database saved successfully.\")"
   ]
  },
  {
   "cell_type": "code",
   "execution_count": 72,
   "id": "d1fb1e02",
   "metadata": {},
   "outputs": [],
   "source": [
    "\n",
    "def get_QA_chain():\n",
    "    \n",
    "    # Load the vector database from the local folder\n",
    "    try:\n",
    "        vectordb = FAISS.load_local(vector_db_file_path, embeddings_model,allow_dangerous_deserialization=True)\n",
    "\n",
    "        # Create a retriever for querying the vector database\n",
    "        retriever = vectordb.as_retriever(\n",
    "                        search_type=\"similarity_score_threshold\", \n",
    "                        search_kwargs={\n",
    "                            \"score_threshold\": 0.2,\n",
    "                            \"k\": 15\n",
    "                            }\n",
    "                        )\n",
    "        system_prompt_string = load_system_prompt()\n",
    "\n",
    "        system_prompt = (system_prompt_string)\n",
    "\n",
    "        prompt = ChatPromptTemplate.from_messages(\n",
    "            [\n",
    "                (\"system\", system_prompt),\n",
    "                (\"human\", \"{input}\"),\n",
    "            ]\n",
    "        )\n",
    "\n",
    "        question_answer_chain = create_stuff_documents_chain(llm, prompt)\n",
    "        chain = create_retrieval_chain(retriever, question_answer_chain)\n",
    "        return chain\n",
    "\n",
    "    except Exception as e:\n",
    "        logger.error(f\"Error creating QA chain: {str(e)}\")\n",
    "        raise\n"
   ]
  },
  {
   "cell_type": "code",
   "execution_count": null,
   "id": "38e08f94",
   "metadata": {},
   "outputs": [],
   "source": []
  },
  {
   "cell_type": "code",
   "execution_count": 73,
   "id": "8881f3a3",
   "metadata": {},
   "outputs": [],
   "source": [
    "chain = get_QA_chain()"
   ]
  },
  {
   "cell_type": "code",
   "execution_count": 94,
   "id": "c5a7e968",
   "metadata": {},
   "outputs": [
    {
     "name": "stdout",
     "output_type": "stream",
     "text": [
      "Thank you for your kind words! The Hunar Foundation is dedicated to empowering youth through vocational and technical education. If you have any questions about our programs or how you can get involved, feel free to ask!\n"
     ]
    }
   ],
   "source": [
    "query = 'you are good'\n",
    "\n",
    "if 'hunar foundation' not in query.lower():\n",
    "    modified_query = query + ' of hunar foundation'\n",
    "else:\n",
    "    modified_query = query\n",
    "\n",
    "ans = chain.invoke({\"input\": modified_query})\n",
    "ans['answer']\n",
    "# except:\n",
    "print(ans['answer'])"
   ]
  },
  {
   "cell_type": "code",
   "execution_count": 88,
   "id": "56cebcf0",
   "metadata": {},
   "outputs": [
    {
     "name": "stdout",
     "output_type": "stream",
     "text": [
      "Here is the context\n"
     ]
    },
    {
     "data": {
      "text/plain": [
       "[Document(id='6c6b9e77-f24b-4486-ad1d-d0ccfde890c8', metadata={'source': '/home/danish/Desktop/hf_bot/dataset/hunarfoundation.org__index.md', 'start_index': 14785}, page_content='* [ ](https://hunarfoundation.org/<https:/www.linkedin.com/company/the-hunar-foundation-thf-/>)\\n  * [ ](https://hunarfoundation.org/<https:/twitter.com/THFHunar>)\\n  * [ ](https://hunarfoundation.org/<https:/www.tiktok.com/@thehunarfoundation?_t=8edbSHDc97y&_r=1>)\\n  * [ ](https://hunarfoundation.org/<https:/www.youtube.com/c/TheHunarFoundationTHF>)'),\n",
       " Document(id='5772e508-1351-4f1d-9985-2c39624b503f', metadata={'source': '/home/danish/Desktop/hf_bot/dataset/hunarfoundation.org__thf-international-chapters.md', 'start_index': 5982}, page_content=\"##  THF International Chapters \\n###  Uniting Communities and Bridging Gaps \\n## Our International Chapters\\nExperience the global reach of empowerment through The Hunar Foundation's International Chapters. Rooted in our overarching mission, which aims to help close the skills gap among young adults in Pakistan, our International Chapters extend this commitment internationally\\n![](https://hunarfoundation.org/wp-content/uploads/2024/01/USA.jpg)\\n## The Hunar Foundation USA\\nThe Hunar Foundation USA is a 501 (c) (3) non-profit rganization that took root to find a solution to the youth’s livelihood problems through quality vocational training of international standards.\\nThe overarching mission of THF USA is to help close the skills gap amongst young adults in Pakistan by providing internationally accredited vocational training for men and women with a particular emphasis on women empowerment for women from low-income families.\"),\n",
       " Document(id='31d8184b-f2ea-48f4-833c-c8d1e841db95', metadata={'source': '/home/danish/Desktop/hf_bot/dataset/hunarfoundation.org__thf-impact.md', 'start_index': 7336}, page_content='* [ ](https://hunarfoundation.org/thf-impact/<https:/www.linkedin.com/company/the-hunar-foundation-thf-/>)\\n  * [ ](https://hunarfoundation.org/thf-impact/<https:/twitter.com/THFHunar>)\\n  * [ ](https://hunarfoundation.org/thf-impact/<https:/www.tiktok.com/@thehunarfoundation?_t=8edbSHDc97y&_r=1>)\\n  * [ ](https://hunarfoundation.org/thf-impact/<https:/www.youtube.com/c/TheHunarFoundationTHF>)'),\n",
       " Document(id='54fa4deb-1b45-4cb1-b25e-1bceca8913e9', metadata={'source': '/home/danish/Desktop/hf_bot/dataset/hunarfoundation.org__thf-impact.md', 'start_index': 7336}, page_content='* [ ](https://hunarfoundation.org/thf-impact/<https:/www.linkedin.com/company/the-hunar-foundation-thf-/>)\\n  * [ ](https://hunarfoundation.org/thf-impact/<https:/twitter.com/THFHunar>)\\n  * [ ](https://hunarfoundation.org/thf-impact/<https:/www.tiktok.com/@thehunarfoundation?_t=8edbSHDc97y&_r=1>)\\n  * [ ](https://hunarfoundation.org/thf-impact/<https:/www.youtube.com/c/TheHunarFoundationTHF>)'),\n",
       " Document(id='b1dc5b23-4d32-469a-a0c7-675081a4020f', metadata={'source': '/home/danish/Desktop/hf_bot/dataset/hunarfoundation.org__join-our-team.md', 'start_index': 5829}, page_content='[**Load more listings**](https://hunarfoundation.org/join-our-team/<#>)\\n[ ![The Hunar Foundation](https://hunarfoundation.org/wp-content/uploads/2021/02/Honar-Foundation-Linear-Footer-Logo.png) ](https://hunarfoundation.org/join-our-team/<https:/hunarfoundation.org/>)\\nThe Hunar Foundation (THF) is a Not-for-Profit Organization (NPO), established in 2008 by a group of like-minded Pakistanis, to empower and enable the marginalized youth of Pakistan with vocational and technical skills. THF’s objective is to act as a catalyst in the field of education for catalytic action and increase the number of youth engaged in productive work, consequently alleviating poverty and making them contributing members of the society.\\n  * [ ](https://hunarfoundation.org/join-our-team/<https:/www.facebook.com/THFPakistan/>)\\n  * [ ](https://hunarfoundation.org/join-our-team/<https:/www.instagram.com/thehunarfoundation/>)'),\n",
       " Document(id='4edb30a0-9834-46b3-bc10-13a884083c2b', metadata={'source': '/home/danish/Desktop/hf_bot/dataset/hunarfoundation.org__join-our-team.md', 'start_index': 5829}, page_content='[**Load more listings**](https://hunarfoundation.org/join-our-team/<#>)\\n[ ![The Hunar Foundation](https://hunarfoundation.org/wp-content/uploads/2021/02/Honar-Foundation-Linear-Footer-Logo.png) ](https://hunarfoundation.org/join-our-team/<https:/hunarfoundation.org/>)\\nThe Hunar Foundation (THF) is a Not-for-Profit Organization (NPO), established in 2008 by a group of like-minded Pakistanis, to empower and enable the marginalized youth of Pakistan with vocational and technical skills. THF’s objective is to act as a catalyst in the field of education for catalytic action and increase the number of youth engaged in productive work, consequently alleviating poverty and making them contributing members of the society.\\n  * [ ](https://hunarfoundation.org/join-our-team/<https:/www.facebook.com/THFPakistan/>)\\n  * [ ](https://hunarfoundation.org/join-our-team/<https:/www.instagram.com/thehunarfoundation/>)'),\n",
       " Document(id='bc5bc3a3-4f7a-4e7a-a22f-26f5e8b254e5', metadata={'source': '/home/danish/Desktop/hf_bot/dataset/hunarfoundation.org__hunar-dastaanein.md', 'start_index': 8471}, page_content='[ ![The Hunar Foundation](https://hunarfoundation.org/wp-content/uploads/2021/02/Honar-Foundation-Linear-Footer-Logo.png) ](https://hunarfoundation.org/hunar-dastaanein/<https:/hunarfoundation.org/>)\\nThe Hunar Foundation (THF) is a Not-for-Profit Organization (NPO), established in 2008 by a group of like-minded Pakistanis, to empower and enable the marginalized youth of Pakistan with vocational and technical skills. THF’s objective is to act as a catalyst in the field of education for catalytic action and increase the number of youth engaged in productive work, consequently alleviating poverty and making them contributing members of the society.\\n  * [ ](https://hunarfoundation.org/hunar-dastaanein/<https:/www.facebook.com/THFPakistan/>)\\n  * [ ](https://hunarfoundation.org/hunar-dastaanein/<https:/www.instagram.com/thehunarfoundation/>)\\n  * [ ](https://hunarfoundation.org/hunar-dastaanein/<https:/www.linkedin.com/company/the-hunar-foundation-thf-/>)'),\n",
       " Document(id='e4a2b6ff-393e-47cb-ad17-b8067d8627ad', metadata={'source': '/home/danish/Desktop/hf_bot/dataset/hunarfoundation.org__thf-founding-members.md', 'start_index': 7366}, page_content='[ ![The Hunar Foundation](https://hunarfoundation.org/wp-content/uploads/2021/02/Honar-Foundation-Linear-Footer-Logo.png) ](https://hunarfoundation.org/thf-founding-members/<https:/hunarfoundation.org/>)\\nThe Hunar Foundation (THF) is a Not-for-Profit Organization (NPO), established in 2008 by a group of like-minded Pakistanis, to empower and enable the marginalized youth of Pakistan with vocational and technical skills. THF’s objective is to act as a catalyst in the field of education for catalytic action and increase the number of youth engaged in productive work, consequently alleviating poverty and making them contributing members of the society.\\n  * [ ](https://hunarfoundation.org/thf-founding-members/<https:/www.facebook.com/THFPakistan/>)\\n  * [ ](https://hunarfoundation.org/thf-founding-members/<https:/www.instagram.com/thehunarfoundation/>)\\n  * [ ](https://hunarfoundation.org/thf-founding-members/<https:/www.linkedin.com/company/the-hunar-foundation-thf-/>)'),\n",
       " Document(id='fbafd0fb-4158-4e4e-9bc9-830ffbee44c4', metadata={'source': '/home/danish/Desktop/hf_bot/dataset/hunarfoundation.org__thf-founding-members.md', 'start_index': 7366}, page_content='[ ![The Hunar Foundation](https://hunarfoundation.org/wp-content/uploads/2021/02/Honar-Foundation-Linear-Footer-Logo.png) ](https://hunarfoundation.org/thf-founding-members/<https:/hunarfoundation.org/>)\\nThe Hunar Foundation (THF) is a Not-for-Profit Organization (NPO), established in 2008 by a group of like-minded Pakistanis, to empower and enable the marginalized youth of Pakistan with vocational and technical skills. THF’s objective is to act as a catalyst in the field of education for catalytic action and increase the number of youth engaged in productive work, consequently alleviating poverty and making them contributing members of the society.\\n  * [ ](https://hunarfoundation.org/thf-founding-members/<https:/www.facebook.com/THFPakistan/>)\\n  * [ ](https://hunarfoundation.org/thf-founding-members/<https:/www.instagram.com/thehunarfoundation/>)\\n  * [ ](https://hunarfoundation.org/thf-founding-members/<https:/www.linkedin.com/company/the-hunar-foundation-thf-/>)'),\n",
       " Document(id='1c8a598d-23f3-4c72-9bba-ee07003d4e01', metadata={'source': '/home/danish/Desktop/hf_bot/dataset/hunarfoundation.org__about-us.md', 'start_index': 14134}, page_content='* [ ](https://hunarfoundation.org/about-us/<https:/www.facebook.com/THFPakistan/>)\\n  * [ ](https://hunarfoundation.org/about-us/<https:/www.instagram.com/thehunarfoundation/>)\\n  * [ ](https://hunarfoundation.org/about-us/<https:/www.linkedin.com/company/the-hunar-foundation-thf-/>)\\n  * [ ](https://hunarfoundation.org/about-us/<https:/twitter.com/THFHunar>)\\n  * [ ](https://hunarfoundation.org/about-us/<https:/www.tiktok.com/@thehunarfoundation?_t=8edbSHDc97y&_r=1>)\\n  * [ ](https://hunarfoundation.org/about-us/<https:/www.youtube.com/c/TheHunarFoundationTHF>)'),\n",
       " Document(id='2e9ed69d-8ac4-4a52-8a49-02ffca22935d', metadata={'source': '/home/danish/Desktop/hf_bot/dataset/hunarfoundation.org__privacy-policy.md', 'start_index': 9668}, page_content='[ ![The Hunar Foundation](https://hunarfoundation.org/wp-content/uploads/2021/02/Honar-Foundation-Linear-Footer-Logo.png) ](https://hunarfoundation.org/privacy-policy/<https:/hunarfoundation.org/>)\\nThe Hunar Foundation (THF) is a Not-for-Profit Organization (NPO), established in 2008 by a group of like-minded Pakistanis, to empower and enable the marginalized youth of Pakistan with vocational and technical skills. THF’s objective is to act as a catalyst in the field of education for catalytic action and increase the number of youth engaged in productive work, consequently alleviating poverty and making them contributing members of the society.\\n  * [ ](https://hunarfoundation.org/privacy-policy/<https:/www.facebook.com/THFPakistan/>)\\n  * [ ](https://hunarfoundation.org/privacy-policy/<https:/www.instagram.com/thehunarfoundation/>)\\n  * [ ](https://hunarfoundation.org/privacy-policy/<https:/www.linkedin.com/company/the-hunar-foundation-thf-/>)'),\n",
       " Document(id='9fb56e7a-b8e6-443c-8a23-9ae7ec493810', metadata={'source': '/home/danish/Desktop/hf_bot/dataset/hunarfoundation.org__testimonials.md', 'start_index': 5897}, page_content='[ ![The Hunar Foundation](https://hunarfoundation.org/wp-content/uploads/2021/02/Honar-Foundation-Linear-Footer-Logo.png) ](https://hunarfoundation.org/testimonials/<https:/hunarfoundation.org/>)\\nThe Hunar Foundation (THF) is a Not-for-Profit Organization (NPO), established in 2008 by a group of like-minded Pakistanis, to empower and enable the marginalized youth of Pakistan with vocational and technical skills. THF’s objective is to act as a catalyst in the field of education for catalytic action and increase the number of youth engaged in productive work, consequently alleviating poverty and making them contributing members of the society.\\n  * [ ](https://hunarfoundation.org/testimonials/<https:/www.facebook.com/THFPakistan/>)\\n  * [ ](https://hunarfoundation.org/testimonials/<https:/www.instagram.com/thehunarfoundation/>)\\n  * [ ](https://hunarfoundation.org/testimonials/<https:/www.linkedin.com/company/the-hunar-foundation-thf-/>)'),\n",
       " Document(id='b2f9bd1e-d4dd-4ff2-a0ed-6a61454f89b7', metadata={'source': '/home/danish/Desktop/hf_bot/dataset/hunarfoundation.org__testimonials.md', 'start_index': 5897}, page_content='[ ![The Hunar Foundation](https://hunarfoundation.org/wp-content/uploads/2021/02/Honar-Foundation-Linear-Footer-Logo.png) ](https://hunarfoundation.org/testimonials/<https:/hunarfoundation.org/>)\\nThe Hunar Foundation (THF) is a Not-for-Profit Organization (NPO), established in 2008 by a group of like-minded Pakistanis, to empower and enable the marginalized youth of Pakistan with vocational and technical skills. THF’s objective is to act as a catalyst in the field of education for catalytic action and increase the number of youth engaged in productive work, consequently alleviating poverty and making them contributing members of the society.\\n  * [ ](https://hunarfoundation.org/testimonials/<https:/www.facebook.com/THFPakistan/>)\\n  * [ ](https://hunarfoundation.org/testimonials/<https:/www.instagram.com/thehunarfoundation/>)\\n  * [ ](https://hunarfoundation.org/testimonials/<https:/www.linkedin.com/company/the-hunar-foundation-thf-/>)'),\n",
       " Document(id='158acef1-4abc-41c3-8eea-4db9a98566ea', metadata={'source': '/home/danish/Desktop/hf_bot/dataset/hunarfoundation.org__hunar-care.md', 'start_index': 7754}, page_content='[ ![The Hunar Foundation](https://hunarfoundation.org/wp-content/uploads/2021/02/Honar-Foundation-Linear-Footer-Logo.png) ](https://hunarfoundation.org/hunar-care/<https:/hunarfoundation.org/>)\\nThe Hunar Foundation (THF) is a Not-for-Profit Organization (NPO), established in 2008 by a group of like-minded Pakistanis, to empower and enable the marginalized youth of Pakistan with vocational and technical skills. THF’s objective is to act as a catalyst in the field of education for catalytic action and increase the number of youth engaged in productive work, consequently alleviating poverty and making them contributing members of the society.\\n  * [ ](https://hunarfoundation.org/hunar-care/<https:/www.facebook.com/THFPakistan/>)\\n  * [ ](https://hunarfoundation.org/hunar-care/<https:/www.instagram.com/thehunarfoundation/>)\\n  * [ ](https://hunarfoundation.org/hunar-care/<https:/www.linkedin.com/company/the-hunar-foundation-thf-/>)'),\n",
       " Document(id='c542c004-f5ed-49fc-85bc-b710e1c26f62', metadata={'source': '/home/danish/Desktop/hf_bot/dataset/hunarfoundation.org__hunar-care.md', 'start_index': 7754}, page_content='[ ![The Hunar Foundation](https://hunarfoundation.org/wp-content/uploads/2021/02/Honar-Foundation-Linear-Footer-Logo.png) ](https://hunarfoundation.org/hunar-care/<https:/hunarfoundation.org/>)\\nThe Hunar Foundation (THF) is a Not-for-Profit Organization (NPO), established in 2008 by a group of like-minded Pakistanis, to empower and enable the marginalized youth of Pakistan with vocational and technical skills. THF’s objective is to act as a catalyst in the field of education for catalytic action and increase the number of youth engaged in productive work, consequently alleviating poverty and making them contributing members of the society.\\n  * [ ](https://hunarfoundation.org/hunar-care/<https:/www.facebook.com/THFPakistan/>)\\n  * [ ](https://hunarfoundation.org/hunar-care/<https:/www.instagram.com/thehunarfoundation/>)\\n  * [ ](https://hunarfoundation.org/hunar-care/<https:/www.linkedin.com/company/the-hunar-foundation-thf-/>)')]"
      ]
     },
     "execution_count": 88,
     "metadata": {},
     "output_type": "execute_result"
    }
   ],
   "source": [
    "print(\"Here is the context\")\n",
    "ans['context']"
   ]
  },
  {
   "cell_type": "code",
   "execution_count": 89,
   "id": "d6ac3142",
   "metadata": {},
   "outputs": [
    {
     "name": "stdout",
     "output_type": "stream",
     "text": [
      "REFERENCE FROM DATA:\n",
      "\n",
      "1 * [ ](https://hunarfoundation.org/<https:/www.linkedin.com/company/the-hunar-foundation-thf-/>)\n",
      "  * [ ](https://hunarfoundation.org/<https:/twitter.com/THFHunar>)\n",
      "  * [ ](https://hunarfoundation.org/<https:/www.tiktok.com/@thehunarfoundation?_t=8edbSHDc97y&_r=1>)\n",
      "  * [ ](https://hunarfoundation.org/<https:/www.youtube.com/c/TheHunarFoundationTHF>)\n",
      "2 ##  THF International Chapters \n",
      "###  Uniting Communities and Bridging Gaps \n",
      "## Our International Chapters\n",
      "Experience the global reach of empowerment through The Hunar Foundation's International Chapters. Rooted in our overarching mission, which aims to help close the skills gap among young adults in Pakistan, our International Chapters extend this commitment internationally\n",
      "![](https://hunarfoundation.org/wp-content/uploads/2024/01/USA.jpg)\n",
      "## The Hunar Foundation USA\n",
      "The Hunar Foundation USA is a 501 (c) (3) non-profit rganization that took root to find a solution to the youth’s livelihood problems through quality vocational training of international standards.\n",
      "The overarching mission of THF USA is to help close the skills gap amongst young adults in Pakistan by providing internationally accredited vocational training for men and women with a particular emphasis on women empowerment for women from low-income families.\n",
      "3 * [ ](https://hunarfoundation.org/thf-impact/<https:/www.linkedin.com/company/the-hunar-foundation-thf-/>)\n",
      "  * [ ](https://hunarfoundation.org/thf-impact/<https:/twitter.com/THFHunar>)\n",
      "  * [ ](https://hunarfoundation.org/thf-impact/<https:/www.tiktok.com/@thehunarfoundation?_t=8edbSHDc97y&_r=1>)\n",
      "  * [ ](https://hunarfoundation.org/thf-impact/<https:/www.youtube.com/c/TheHunarFoundationTHF>)\n",
      "4 * [ ](https://hunarfoundation.org/thf-impact/<https:/www.linkedin.com/company/the-hunar-foundation-thf-/>)\n",
      "  * [ ](https://hunarfoundation.org/thf-impact/<https:/twitter.com/THFHunar>)\n",
      "  * [ ](https://hunarfoundation.org/thf-impact/<https:/www.tiktok.com/@thehunarfoundation?_t=8edbSHDc97y&_r=1>)\n",
      "  * [ ](https://hunarfoundation.org/thf-impact/<https:/www.youtube.com/c/TheHunarFoundationTHF>)\n",
      "5 [**Load more listings**](https://hunarfoundation.org/join-our-team/<#>)\n",
      "[ ![The Hunar Foundation](https://hunarfoundation.org/wp-content/uploads/2021/02/Honar-Foundation-Linear-Footer-Logo.png) ](https://hunarfoundation.org/join-our-team/<https:/hunarfoundation.org/>)\n",
      "The Hunar Foundation (THF) is a Not-for-Profit Organization (NPO), established in 2008 by a group of like-minded Pakistanis, to empower and enable the marginalized youth of Pakistan with vocational and technical skills. THF’s objective is to act as a catalyst in the field of education for catalytic action and increase the number of youth engaged in productive work, consequently alleviating poverty and making them contributing members of the society.\n",
      "  * [ ](https://hunarfoundation.org/join-our-team/<https:/www.facebook.com/THFPakistan/>)\n",
      "  * [ ](https://hunarfoundation.org/join-our-team/<https:/www.instagram.com/thehunarfoundation/>)\n",
      "6 [**Load more listings**](https://hunarfoundation.org/join-our-team/<#>)\n",
      "[ ![The Hunar Foundation](https://hunarfoundation.org/wp-content/uploads/2021/02/Honar-Foundation-Linear-Footer-Logo.png) ](https://hunarfoundation.org/join-our-team/<https:/hunarfoundation.org/>)\n",
      "The Hunar Foundation (THF) is a Not-for-Profit Organization (NPO), established in 2008 by a group of like-minded Pakistanis, to empower and enable the marginalized youth of Pakistan with vocational and technical skills. THF’s objective is to act as a catalyst in the field of education for catalytic action and increase the number of youth engaged in productive work, consequently alleviating poverty and making them contributing members of the society.\n",
      "  * [ ](https://hunarfoundation.org/join-our-team/<https:/www.facebook.com/THFPakistan/>)\n",
      "  * [ ](https://hunarfoundation.org/join-our-team/<https:/www.instagram.com/thehunarfoundation/>)\n",
      "7 [ ![The Hunar Foundation](https://hunarfoundation.org/wp-content/uploads/2021/02/Honar-Foundation-Linear-Footer-Logo.png) ](https://hunarfoundation.org/hunar-dastaanein/<https:/hunarfoundation.org/>)\n",
      "The Hunar Foundation (THF) is a Not-for-Profit Organization (NPO), established in 2008 by a group of like-minded Pakistanis, to empower and enable the marginalized youth of Pakistan with vocational and technical skills. THF’s objective is to act as a catalyst in the field of education for catalytic action and increase the number of youth engaged in productive work, consequently alleviating poverty and making them contributing members of the society.\n",
      "  * [ ](https://hunarfoundation.org/hunar-dastaanein/<https:/www.facebook.com/THFPakistan/>)\n",
      "  * [ ](https://hunarfoundation.org/hunar-dastaanein/<https:/www.instagram.com/thehunarfoundation/>)\n",
      "  * [ ](https://hunarfoundation.org/hunar-dastaanein/<https:/www.linkedin.com/company/the-hunar-foundation-thf-/>)\n",
      "8 [ ![The Hunar Foundation](https://hunarfoundation.org/wp-content/uploads/2021/02/Honar-Foundation-Linear-Footer-Logo.png) ](https://hunarfoundation.org/thf-founding-members/<https:/hunarfoundation.org/>)\n",
      "The Hunar Foundation (THF) is a Not-for-Profit Organization (NPO), established in 2008 by a group of like-minded Pakistanis, to empower and enable the marginalized youth of Pakistan with vocational and technical skills. THF’s objective is to act as a catalyst in the field of education for catalytic action and increase the number of youth engaged in productive work, consequently alleviating poverty and making them contributing members of the society.\n",
      "  * [ ](https://hunarfoundation.org/thf-founding-members/<https:/www.facebook.com/THFPakistan/>)\n",
      "  * [ ](https://hunarfoundation.org/thf-founding-members/<https:/www.instagram.com/thehunarfoundation/>)\n",
      "  * [ ](https://hunarfoundation.org/thf-founding-members/<https:/www.linkedin.com/company/the-hunar-foundation-thf-/>)\n",
      "9 [ ![The Hunar Foundation](https://hunarfoundation.org/wp-content/uploads/2021/02/Honar-Foundation-Linear-Footer-Logo.png) ](https://hunarfoundation.org/thf-founding-members/<https:/hunarfoundation.org/>)\n",
      "The Hunar Foundation (THF) is a Not-for-Profit Organization (NPO), established in 2008 by a group of like-minded Pakistanis, to empower and enable the marginalized youth of Pakistan with vocational and technical skills. THF’s objective is to act as a catalyst in the field of education for catalytic action and increase the number of youth engaged in productive work, consequently alleviating poverty and making them contributing members of the society.\n",
      "  * [ ](https://hunarfoundation.org/thf-founding-members/<https:/www.facebook.com/THFPakistan/>)\n",
      "  * [ ](https://hunarfoundation.org/thf-founding-members/<https:/www.instagram.com/thehunarfoundation/>)\n",
      "  * [ ](https://hunarfoundation.org/thf-founding-members/<https:/www.linkedin.com/company/the-hunar-foundation-thf-/>)\n",
      "10 * [ ](https://hunarfoundation.org/about-us/<https:/www.facebook.com/THFPakistan/>)\n",
      "  * [ ](https://hunarfoundation.org/about-us/<https:/www.instagram.com/thehunarfoundation/>)\n",
      "  * [ ](https://hunarfoundation.org/about-us/<https:/www.linkedin.com/company/the-hunar-foundation-thf-/>)\n",
      "  * [ ](https://hunarfoundation.org/about-us/<https:/twitter.com/THFHunar>)\n",
      "  * [ ](https://hunarfoundation.org/about-us/<https:/www.tiktok.com/@thehunarfoundation?_t=8edbSHDc97y&_r=1>)\n",
      "  * [ ](https://hunarfoundation.org/about-us/<https:/www.youtube.com/c/TheHunarFoundationTHF>)\n",
      "11 [ ![The Hunar Foundation](https://hunarfoundation.org/wp-content/uploads/2021/02/Honar-Foundation-Linear-Footer-Logo.png) ](https://hunarfoundation.org/privacy-policy/<https:/hunarfoundation.org/>)\n",
      "The Hunar Foundation (THF) is a Not-for-Profit Organization (NPO), established in 2008 by a group of like-minded Pakistanis, to empower and enable the marginalized youth of Pakistan with vocational and technical skills. THF’s objective is to act as a catalyst in the field of education for catalytic action and increase the number of youth engaged in productive work, consequently alleviating poverty and making them contributing members of the society.\n",
      "  * [ ](https://hunarfoundation.org/privacy-policy/<https:/www.facebook.com/THFPakistan/>)\n",
      "  * [ ](https://hunarfoundation.org/privacy-policy/<https:/www.instagram.com/thehunarfoundation/>)\n",
      "  * [ ](https://hunarfoundation.org/privacy-policy/<https:/www.linkedin.com/company/the-hunar-foundation-thf-/>)\n",
      "12 [ ![The Hunar Foundation](https://hunarfoundation.org/wp-content/uploads/2021/02/Honar-Foundation-Linear-Footer-Logo.png) ](https://hunarfoundation.org/testimonials/<https:/hunarfoundation.org/>)\n",
      "The Hunar Foundation (THF) is a Not-for-Profit Organization (NPO), established in 2008 by a group of like-minded Pakistanis, to empower and enable the marginalized youth of Pakistan with vocational and technical skills. THF’s objective is to act as a catalyst in the field of education for catalytic action and increase the number of youth engaged in productive work, consequently alleviating poverty and making them contributing members of the society.\n",
      "  * [ ](https://hunarfoundation.org/testimonials/<https:/www.facebook.com/THFPakistan/>)\n",
      "  * [ ](https://hunarfoundation.org/testimonials/<https:/www.instagram.com/thehunarfoundation/>)\n",
      "  * [ ](https://hunarfoundation.org/testimonials/<https:/www.linkedin.com/company/the-hunar-foundation-thf-/>)\n",
      "13 [ ![The Hunar Foundation](https://hunarfoundation.org/wp-content/uploads/2021/02/Honar-Foundation-Linear-Footer-Logo.png) ](https://hunarfoundation.org/testimonials/<https:/hunarfoundation.org/>)\n",
      "The Hunar Foundation (THF) is a Not-for-Profit Organization (NPO), established in 2008 by a group of like-minded Pakistanis, to empower and enable the marginalized youth of Pakistan with vocational and technical skills. THF’s objective is to act as a catalyst in the field of education for catalytic action and increase the number of youth engaged in productive work, consequently alleviating poverty and making them contributing members of the society.\n",
      "  * [ ](https://hunarfoundation.org/testimonials/<https:/www.facebook.com/THFPakistan/>)\n",
      "  * [ ](https://hunarfoundation.org/testimonials/<https:/www.instagram.com/thehunarfoundation/>)\n",
      "  * [ ](https://hunarfoundation.org/testimonials/<https:/www.linkedin.com/company/the-hunar-foundation-thf-/>)\n",
      "14 [ ![The Hunar Foundation](https://hunarfoundation.org/wp-content/uploads/2021/02/Honar-Foundation-Linear-Footer-Logo.png) ](https://hunarfoundation.org/hunar-care/<https:/hunarfoundation.org/>)\n",
      "The Hunar Foundation (THF) is a Not-for-Profit Organization (NPO), established in 2008 by a group of like-minded Pakistanis, to empower and enable the marginalized youth of Pakistan with vocational and technical skills. THF’s objective is to act as a catalyst in the field of education for catalytic action and increase the number of youth engaged in productive work, consequently alleviating poverty and making them contributing members of the society.\n",
      "  * [ ](https://hunarfoundation.org/hunar-care/<https:/www.facebook.com/THFPakistan/>)\n",
      "  * [ ](https://hunarfoundation.org/hunar-care/<https:/www.instagram.com/thehunarfoundation/>)\n",
      "  * [ ](https://hunarfoundation.org/hunar-care/<https:/www.linkedin.com/company/the-hunar-foundation-thf-/>)\n",
      "15 [ ![The Hunar Foundation](https://hunarfoundation.org/wp-content/uploads/2021/02/Honar-Foundation-Linear-Footer-Logo.png) ](https://hunarfoundation.org/hunar-care/<https:/hunarfoundation.org/>)\n",
      "The Hunar Foundation (THF) is a Not-for-Profit Organization (NPO), established in 2008 by a group of like-minded Pakistanis, to empower and enable the marginalized youth of Pakistan with vocational and technical skills. THF’s objective is to act as a catalyst in the field of education for catalytic action and increase the number of youth engaged in productive work, consequently alleviating poverty and making them contributing members of the society.\n",
      "  * [ ](https://hunarfoundation.org/hunar-care/<https:/www.facebook.com/THFPakistan/>)\n",
      "  * [ ](https://hunarfoundation.org/hunar-care/<https:/www.instagram.com/thehunarfoundation/>)\n",
      "  * [ ](https://hunarfoundation.org/hunar-care/<https:/www.linkedin.com/company/the-hunar-foundation-thf-/>)\n"
     ]
    }
   ],
   "source": [
    "print('Reference From Data:\\n'.upper())\n",
    "num_of_indexs = len(ans['context'])\n",
    "# print(num_of_indexs)\n",
    "for i in range(num_of_indexs):\n",
    "    print(i+1,((ans['context'])[i]).page_content)"
   ]
  },
  {
   "cell_type": "code",
   "execution_count": null,
   "id": "df48eb9d",
   "metadata": {},
   "outputs": [],
   "source": []
  },
  {
   "cell_type": "code",
   "execution_count": null,
   "id": "c5e8b48a",
   "metadata": {},
   "outputs": [],
   "source": []
  },
  {
   "cell_type": "code",
   "execution_count": 9,
   "id": "24f38723",
   "metadata": {},
   "outputs": [
    {
     "name": "stdout",
     "output_type": "stream",
     "text": [
      "Existing vector database loaded.\n",
      "Split hunarfoundation.org__index.md into 29 sub-documents.\n",
      "Split hunarfoundation.org__thf-management.md into 14 sub-documents.\n",
      "Split hunarfoundation.org__thf-annual-reports.md into 14 sub-documents.\n",
      "Split hunarfoundation.org__contact-us.md into 15 sub-documents.\n",
      "Split hunarfoundation.org__friends-of-hunar-foh.md into 15 sub-documents.\n",
      "Split hunarfoundation.org__the-hunar-technical-institutes-network.md into 31 sub-documents.\n",
      "Split hunarfoundation.org__portfolio_laila-tul-noor.md into 13 sub-documents.\n",
      "Split hunarfoundation.org__thf-board-of-directors.md into 20 sub-documents.\n",
      "Split hunarfoundation.org__thf-impact.md into 13 sub-documents.\n",
      "Split hunarfoundation.org__hunar-dastaanein.md into 17 sub-documents.\n",
      "Split hunarfoundation.org__about-us.md into 23 sub-documents.\n",
      "Split hunarfoundation.org__technical-courses.md into 17 sub-documents.\n",
      "Split hunarfoundation.org__testimonials.md into 12 sub-documents.\n",
      "Split hunarfoundation.org__advanced-technology-courses.md into 15 sub-documents.\n",
      "Split hunarfoundation.org__privacy-policy.md into 19 sub-documents.\n",
      "Split hunarfoundation.org__video-gallery.md into 12 sub-documents.\n",
      "Split hunarfoundation.org__student-career-services.md into 17 sub-documents.\n",
      "Split hunarfoundation.org__admissions.md into 18 sub-documents.\n",
      "Split hunarfoundation.org__mustafa-kassam-teachers-training-school.md into 16 sub-documents.\n",
      "Split hunarfoundation.org__finance.md into 13 sub-documents.\n",
      "Split hunarfoundation.org__thf-founding-members.md into 15 sub-documents.\n",
      "Split hunarfoundation.org__ways-to-donate.md into 17 sub-documents.\n",
      "Split hunarfoundation.org__thf-institutes-affiliations.md into 15 sub-documents.\n",
      "Split hunarfoundation.org__how-you-can-contribute.md into 17 sub-documents.\n",
      "Split hunarfoundation.org__emerging-technology-courses.md into 14 sub-documents.\n",
      "Split hunarfoundation.org__portfolio_fakhar-iqbal.md into 13 sub-documents.\n",
      "Split hunarfoundation.org__join-our-team.md into 11 sub-documents.\n",
      "Split hunarfoundation.org__thf-institutes-accreditations.md into 16 sub-documents.\n",
      "Split hunarfoundation.org__thf-international-chapters.md into 19 sub-documents.\n",
      "Split hunarfoundation.org__thf-footprint.md into 13 sub-documents.\n",
      "Split hunarfoundation.org__thf-endowment-report.md into 14 sub-documents.\n",
      "Split hunarfoundation.org__hunar-care.md into 14 sub-documents.\n",
      "Split hunarfoundation.org__donors-and-supporters.md into 14 sub-documents.\n",
      "Split hunarfoundation.org__thf-in-media.md into 12 sub-documents.\n",
      "Split hunarfoundation.org__wp-content_uploads_2024_01_THF-Corporate-Profile_pdf.md into 0 sub-documents.\n",
      "Error processing file hunarfoundation.org__wp-content_uploads_2024_01_THF-Corporate-Profile_pdf.md: not enough values to unpack (expected 2, got 1)\n",
      "Split hunarfoundation.org__wp-content_uploads_2024_01_THF-Newsletter_pdf.md into 0 sub-documents.\n",
      "Error processing file hunarfoundation.org__wp-content_uploads_2024_01_THF-Newsletter_pdf.md: not enough values to unpack (expected 2, got 1)\n",
      "Split hunarfoundation.org__courses.md into 11 sub-documents.\n",
      "Vector database saved successfully.\n"
     ]
    }
   ],
   "source": [
    "create_vector_db(folder_path)"
   ]
  },
  {
   "cell_type": "code",
   "execution_count": 95,
   "id": "8950bdb9",
   "metadata": {},
   "outputs": [],
   "source": [
    "#important funciton\n",
    "logger = logging.getLogger(__name__)\n",
    "\n",
    "def load_system_prompt() -> str:\n",
    "    \"\"\"\n",
    "    Returns the system prompt for the THF QA chain.\n",
    "    \"\"\"\n",
    "    return \"\"\"\n",
    "    You are an FAQs chatbot Retrieval-Augmented Generation (RAG). You are an AI assistant for The Hunar Foundation (THF), a Pakistani Not-for-Profit Organization dedicated to vocational and technical education since 2008. Your responses should be based on the context provided from THF's website data. Follow these guidelines:\n",
    "\n",
    "    CORE BEHAVIOR:\n",
    "    - Always provide accurate information based solely on the provided context\n",
    "    - If information isn't available in the context, say: \"I don't have that specific information in my knowledge base. Please contact THF directly or visit their website for the most up-to-date details.\"\n",
    "    - Maintain a professional, helpful, and empathetic tone reflecting THF's mission of youth empowerment\n",
    "    - Use simple, clear language accessible to diverse audiences\n",
    "    - Responses should be concise yet informative\n",
    "    - Suppose that you are the representative of Hunar Foundation\n",
    "    \n",
    "    KNOWLEDGE BOUNDARIES:\n",
    "    - Only answer questions related to THF's programs, history, mission, activities, and public information\n",
    "    - Do not make commitments on behalf of THF\n",
    "    - Do not provide personal opinions about THF's policies or programs\n",
    "    - Do not discuss sensitive internal matters or financial details beyond public information\n",
    "    - Do not make predictions about THF's future plans unless explicitly stated in the context\n",
    "\n",
    "    RESPONSE PRIORITIES:\n",
    "    1. Student Inquiries:\n",
    "       - Prioritize information about admission processes, course offerings, and eligibility criteria\n",
    "       - Direct prospective students to official application channels\n",
    "       - Provide general guidance about vocational programs and career paths\n",
    "\n",
    "    2. Donor/Partner Inquiries:\n",
    "       - Share public information about THF's impact and achievements\n",
    "       - Explain partnership opportunities based on available information\n",
    "       - Direct specific donation inquiries to appropriate THF contacts\n",
    "\n",
    "    3. General Public:\n",
    "       - Explain THF's mission, vision, and impact\n",
    "       - Share success stories and achievements from the provided context\n",
    "       - Provide factual information about THF's history and development\n",
    "\n",
    "    FORMAT GUIDELINES:\n",
    "    - Begin responses with relevant, direct answers\n",
    "    - Use bullet points for lists of requirements or steps\n",
    "    - Include relevant statistics only if present in the context\n",
    "    - End responses with appropriate next steps or contact information when needed\n",
    "\n",
    "    PROHIBITED ACTIONS:\n",
    "    - Do not create, modify, or accept applications\n",
    "    - Do not make promises about admission or program outcomes\n",
    "    - Do not share contact information not present in the context\n",
    "    - Do not discuss confidential or internal matters\n",
    "    - Do not speculate about matters outside the provided context\n",
    "\n",
    "    INTERACTION EXAMPLES:\n",
    "    For program inquiries: Provide available course information and direct to official application channels\n",
    "    For success metrics: Share only statistics and achievements present in the context\n",
    "    For complaints/issues: Direct to official THF channels for resolution\n",
    "    For donation queries: Provide general information and direct to official donation channels\n",
    "\n",
    "    TECHNICAL UNDERSTANDING:\n",
    "    - Recognize that you are part of a RAG (Retrieval-Augmented Generation) system\n",
    "    - Base responses on retrieved context, not general knowledge about vocational training\n",
    "    - When context is ambiguous, err on the side of providing official contact information\n",
    "\n",
    "    ERROR HANDLING:\n",
    "    - If multiple interpretations are possible, ask for clarification\n",
    "    - If technical issues arise, apologize and suggest refreshing or trying again later\n",
    "    - If questions are outside scope, politely explain boundaries and redirect appropriately\n",
    "    - If you do not understand anything or anything is ambiguous, then ask for clarification\n",
    "\n",
    "    Your primary goal is to assist users while accurately representing THF's mission of empowering Pakistani youth through vocational and technical education, always staying within the boundaries of provided context and maintaining the organization's professional standards.\n",
    "\n",
    "    Context: {context}\n",
    "    Question: {input}\n",
    "    \"\"\""
   ]
  },
  {
   "cell_type": "code",
   "execution_count": null,
   "id": "6cb2d161",
   "metadata": {},
   "outputs": [],
   "source": []
  }
 ],
 "metadata": {
  "kernelspec": {
   "display_name": "Python (hf_bot)",
   "language": "python",
   "name": "hf_bot_venv"
  },
  "language_info": {
   "codemirror_mode": {
    "name": "ipython",
    "version": 3
   },
   "file_extension": ".py",
   "mimetype": "text/x-python",
   "name": "python",
   "nbconvert_exporter": "python",
   "pygments_lexer": "ipython3",
   "version": "3.12.3"
  }
 },
 "nbformat": 4,
 "nbformat_minor": 5
}
